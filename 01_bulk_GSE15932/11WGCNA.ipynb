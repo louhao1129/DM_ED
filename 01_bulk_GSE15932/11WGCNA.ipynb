{
 "cells": [
  {
   "cell_type": "code",
   "execution_count": null,
   "metadata": {},
   "outputs": [],
   "source": [
    "library(WGCNA)\n",
    "library(qs2)\n",
    "library(tidyverse)\n",
    "options(stringsAsFactors = FALSE)\n",
    "\n",
    "# https://space.bilibili.com/3546800304687494"
   ]
  },
  {
   "cell_type": "code",
   "execution_count": null,
   "metadata": {},
   "outputs": [],
   "source": [
    "# 创建目录（若存在则静默跳过）\n",
    "fs::dir_create(\"WGCNA_output\", recurse = TRUE)"
   ]
  },
  {
   "cell_type": "markdown",
   "metadata": {},
   "source": [
    "WGCNA(加权共表达网络分析):寻找协同表达的基因模块，探索基因网络与关注的表型之间的关联关系，以及网络中的核心（hub）基因\n",
    "\n",
    "计算每一对基因直接的表达相关性，将具有相似表达模式的基因归类到同一个模块当中，那么这些模块当中的基因可能共同参与调控某个生物学过程\n",
    "\n",
    "通过网络的方式展示基因之间的关系，每个基因被视为一个节点，之间的关系用边来表示，通过分析得到网络当中密切联系的基因群体也就是模块还可找到模块中最具连接性和调控潜力的关键基因也就是核心基因。不仅可以找到与表型相关的模块，还能进一步挖掘出模块当中可能具有生物学意义的基因\n",
    "\n",
    "基因表达矩阵 -> 相关性矩阵 -> 邻接矩阵\n",
    "\n",
    "基因表达矩阵计算相关性后转换为相关性矩阵，那么相关性多大才算两个基因相关呢？\n",
    "\n",
    "相关性矩阵以软阈值取幂次后称为邻接矩阵，通过图片去进行软阈值的挑选\n",
    "\n",
    "识别基因所在模块的时候，把基因所在的圈子也考虑在内，使得 邻接矩阵 -> 拓扑矩阵\n",
    "\n",
    "拓扑矩阵 -> 识别基因模块\n",
    "\n",
    "总结：WGCNA根据基因表达相关性，把基因归类到模块，将模块与生物学功能联系起来，探索模块可能具有的生物学意义，从而探索生物标志物，治疗靶点，未知基因功能等"
   ]
  },
  {
   "cell_type": "markdown",
   "metadata": {},
   "source": [
    "# 表达矩阵清洗"
   ]
  },
  {
   "cell_type": "code",
   "execution_count": 49,
   "metadata": {},
   "outputs": [],
   "source": [
    "load(\"../output_mRNA_lncRNA_expr/TCGA-LUAD_mrna_expr_fpkm.rdata\")"
   ]
  },
  {
   "cell_type": "code",
   "execution_count": null,
   "metadata": {},
   "outputs": [],
   "source": [
    "# 挑选基因，采用绝对中位差mad过滤数据\n",
    "mrna_exp_mad = apply(mrna_expr_fpkm, 1, mad)\n",
    "mrna_exp_mad = order(mrna_exp_mad, decreasing = TRUE)\n",
    "mrna_exp_num = mrna_exp_mad[1:5000]\n",
    "mrna_exp_filter = mrna_expr_tpm[mrna_exp_num,]\n",
    "datExpr0 = t(mrna_exp_filter)"
   ]
  },
  {
   "cell_type": "code",
   "execution_count": 43,
   "metadata": {},
   "outputs": [
    {
     "name": "stdout",
     "output_type": "stream",
     "text": [
      " Flagging genes and samples with too many missing values...\n",
      "  ..step 1\n"
     ]
    }
   ],
   "source": [
    "# 对样本和基因进行评估，剔除低质量的样本和基因\n",
    "gsg = goodSamplesGenes(datExpr0, verbose = 3) \n",
    "gsg$allOK\n",
    "if (!gsg$allOK)\n",
    "{\n",
    "  if (sum(!gsg$goodGenes)>0)\n",
    "    printFlush(paste(\"Removing genes:\", paste(names(datExpr0)[!gsg$goodGenes], collapse = \", \")))\n",
    "  if (sum(!gsg$goodSamples)>0)\n",
    "    printFlush(paste(\"Removing samples:\", paste(rownames(datExpr0)[!gsg$goodSamples], collapse = \", \")))\n",
    "  datExpr0 = datExpr0[gsg$goodSamples, gsg$goodGenes]\n",
    "}"
   ]
  },
  {
   "cell_type": "code",
   "execution_count": null,
   "metadata": {},
   "outputs": [
    {
     "data": {
      "text/plain": [
       "pdf \n",
       "  2 "
      ]
     },
     "execution_count": null,
     "metadata": {},
     "output_type": "execute_result"
    }
   ],
   "source": [
    "# 聚类树，对离群样本进行剔除\n",
    "sampleTree = hclust(dist(datExpr0), method = \"average\")\n",
    "pdf(file = paste0(\"WGCNA_output/\", \"1_sampleClustering.pdf\"), width = 25, height = 12)\n",
    "par(cex = 0.6)\n",
    "par(mar = c(0,4,2,0))\n",
    "plot(sampleTree, main = \"Sample clustering to detect outliers\", sub=\"\", xlab=\"\", cex.lab = 1.5,\n",
    "     cex.axis = 1.5, cex.main = 2)\n",
    "\n",
    "# Plot a line to show the cut\n",
    "abline(h = 110000, col = \"red\")# 样本剪切高度，在这个高度正好把离群样本和其他样本分割开来\n",
    "dev.off()"
   ]
  },
  {
   "cell_type": "code",
   "execution_count": null,
   "metadata": {},
   "outputs": [
    {
     "name": "stdout",
     "output_type": "stream",
     "text": [
      "clust\n",
      "  0   1 \n",
      "  4 596 \n"
     ]
    }
   ],
   "source": [
    "#选做，根据高度过滤样本\n",
    "# Determine cluster under the line\n",
    "clust = cutreeStatic(sampleTree, cutHeight = 110000, minSize = 10)\n",
    "print(table(clust)) # 0表示要剔除的样本，1表示要保留的样本\n",
    "\n",
    "# clust 1 contains the samples we want to keep.\n",
    "keepSamples = (clust==1)\n",
    "datExpr0 = datExpr0[keepSamples, ]"
   ]
  },
  {
   "cell_type": "code",
   "execution_count": 52,
   "metadata": {},
   "outputs": [],
   "source": [
    "qs_save(datExpr0, \"WGCNA_output/dataExpr0.qs2\")"
   ]
  },
  {
   "cell_type": "code",
   "execution_count": 9,
   "metadata": {},
   "outputs": [
    {
     "data": {
      "text/plain": [
       "           used  (Mb) gc trigger  (Mb) max used  (Mb)\n",
       "Ncells  5992451 320.1   10629622 567.7  9254636 494.3\n",
       "Vcells 41012808 313.0   63386204 483.6 52754596 402.5"
      ]
     },
     "execution_count": null,
     "metadata": {},
     "output_type": "execute_result"
    }
   ],
   "source": [
    "rm(list = ls())\n",
    "gc()"
   ]
  },
  {
   "cell_type": "markdown",
   "metadata": {},
   "source": [
    "# 表型信息处理"
   ]
  },
  {
   "cell_type": "code",
   "execution_count": null,
   "metadata": {},
   "outputs": [],
   "source": [
    "traitdata = qs_read(\"bp_res/bp_res_fraction.qs2\") |> as.data.frame()\n",
    "datExpr0 = qs_read(\"WGCNA_output/dataExpr0.qs2\")"
   ]
  },
  {
   "cell_type": "code",
   "execution_count": 71,
   "metadata": {},
   "outputs": [],
   "source": [
    "traitdata = traitdata |> select(pDC.c_Polarized, pDC.e_Polarized)"
   ]
  },
  {
   "cell_type": "code",
   "execution_count": 75,
   "metadata": {},
   "outputs": [],
   "source": [
    "traitdata = traitdata |> \n",
    "  mutate(tumor = tinyarray::make_tcga_group(mrna_expr_fpkm)) |> \n",
    "  mutate(tumor = ifelse(tumor == \"tumor\", 1, 0))"
   ]
  },
  {
   "cell_type": "code",
   "execution_count": null,
   "metadata": {},
   "outputs": [],
   "source": [
    "# 对齐表型数据和表达数据的样本\n",
    "# 获取共有的样本名，并按表达数据的顺序排列\n",
    "common_samples <- intersect(rownames(datExpr0), rownames(traitdata))\n",
    "# 过滤表达数据和性状数据，仅保留共有样本，并确保顺序一致\n",
    "datExpr0 <- datExpr0[common_samples, , drop = FALSE]\n",
    "traitdata <- traitdata[common_samples, , drop = FALSE]"
   ]
  },
  {
   "cell_type": "code",
   "execution_count": 79,
   "metadata": {},
   "outputs": [
    {
     "data": {
      "text/plain": [
       "pdf \n",
       "  2 "
      ]
     },
     "execution_count": null,
     "metadata": {},
     "output_type": "execute_result"
    }
   ],
   "source": [
    "# Re-cluster samples\n",
    "sampleTree2 = hclust(dist(datExpr0), method = \"average\")\n",
    "traitColors = numbers2colors(traitdata, signed = FALSE)\n",
    "#sizeGrWindow(12,12)\n",
    "pdf(file=paste0(\"WGCNA_output/\", \"2_Sample dendrogram and trait heatmap.pdf\"),width=25,height=10)\n",
    "plotDendroAndColors(sampleTree2, traitColors,\n",
    "                    groupLabels = names(traitdata),\n",
    "                    main = \"Sample dendrogram and trait heatmap\",marAll = c(3,10,3,3))\n",
    "dev.off()"
   ]
  },
  {
   "cell_type": "code",
   "execution_count": 80,
   "metadata": {},
   "outputs": [],
   "source": [
    "qs_save(traitdata, \"WGCNA_output/traitdata.qs2\")"
   ]
  },
  {
   "cell_type": "code",
   "execution_count": 163,
   "metadata": {},
   "outputs": [
    {
     "data": {
      "text/plain": [
       "           used  (Mb) gc trigger  (Mb)  max used   (Mb)\n",
       "Ncells  6865853 366.7   10629622 567.7  10629622  567.7\n",
       "Vcells 17770134 135.6   64705289 493.7 157971835 1205.3"
      ]
     },
     "execution_count": null,
     "metadata": {},
     "output_type": "execute_result"
    }
   ],
   "source": [
    "rm(list = ls())\n",
    "gc()"
   ]
  },
  {
   "cell_type": "markdown",
   "metadata": {},
   "source": [
    "# 逐步法识别基因模块"
   ]
  },
  {
   "cell_type": "code",
   "execution_count": 166,
   "metadata": {},
   "outputs": [],
   "source": [
    "traitdata = qs_read(\"WGCNA_output/datTraits.qs2\")\n",
    "datExpr0 = qs_read(\"WGCNA_output/datExpr0.qs2\")"
   ]
  },
  {
   "cell_type": "code",
   "execution_count": 167,
   "metadata": {},
   "outputs": [
    {
     "name": "stdout",
     "output_type": "stream",
     "text": [
      "Allowing parallel execution with up to 8 working processes.\n"
     ]
    }
   ],
   "source": [
    "# 多线程\n",
    "enableWGCNAThreads(nThreads = 8)  "
   ]
  },
  {
   "cell_type": "code",
   "execution_count": 85,
   "metadata": {},
   "outputs": [
    {
     "name": "stdout",
     "output_type": "stream",
     "text": [
      "pickSoftThreshold: will use block size 5000.\n",
      " pickSoftThreshold: calculating connectivity for given powers...\n",
      "   ..working on genes 1 through 5000 of 5000\n",
      "   Power SFT.R.sq  slope truncated.R.sq  mean.k. median.k.  max.k.\n",
      "1      1    0.106  0.936          0.760 746.0000  7.54e+02 1230.00\n",
      "2      2    0.151 -0.780          0.895 183.0000  1.79e+02  444.00\n",
      "3      3    0.485 -1.520          0.959  58.4000  5.32e+01  194.00\n",
      "4      4    0.641 -1.820          0.973  22.3000  1.85e+01   96.60\n",
      "5      5    0.733 -1.870          0.972   9.7700  7.22e+00   51.90\n",
      "6      6    0.764 -2.140          0.967   4.7500  3.06e+00   33.80\n",
      "7      7    0.833 -2.200          0.984   2.5200  1.40e+00   24.60\n",
      "8      8    0.870 -2.160          0.976   1.4400  6.80e-01   18.50\n",
      "9      9    0.893 -2.090          0.969   0.8770  3.50e-01   14.40\n",
      "10    10    0.906 -2.000          0.962   0.5630  1.85e-01   11.40\n",
      "11    11    0.910 -1.920          0.955   0.3780  1.00e-01    9.23\n",
      "12    12    0.926 -1.810          0.953   0.2640  5.66e-02    7.57\n",
      "13    13    0.929 -1.760          0.952   0.1900  3.26e-02    6.29\n",
      "14    14    0.950 -1.680          0.971   0.1410  1.90e-02    5.28\n",
      "15    15    0.963 -1.620          0.984   0.1070  1.15e-02    4.48\n",
      "16    16    0.959 -1.580          0.979   0.0831  6.97e-03    3.83\n",
      "17    17    0.965 -1.540          0.985   0.0655  4.32e-03    3.30\n",
      "18    18    0.956 -1.500          0.971   0.0525  2.71e-03    2.86\n",
      "19    19    0.965 -1.470          0.982   0.0426  1.68e-03    2.49\n",
      "20    20    0.963 -1.450          0.976   0.0350  1.05e-03    2.18\n"
     ]
    }
   ],
   "source": [
    "# Choose a set of soft-thresholding powers\n",
    "powers = c(1:20)\n",
    "\n",
    "# Call the network topology analysis function\n",
    "sft = pickSoftThreshold(datExpr0, powerVector = powers, verbose = 5)"
   ]
  },
  {
   "cell_type": "code",
   "execution_count": 86,
   "metadata": {},
   "outputs": [
    {
     "data": {
      "text/plain": [
       "pdf \n",
       "  2 "
      ]
     },
     "execution_count": null,
     "metadata": {},
     "output_type": "execute_result"
    }
   ],
   "source": [
    "# Plot the results:\n",
    "#sizeGrWindow(9, 5)\n",
    "pdf(file=paste0(\"WGCNA_output/\", \"3_Scale independence.pdf\"),width=9,height=5)\n",
    "par(mfrow = c(1,2))\n",
    "cex1 = 0.9\n",
    "# Scale-free topology fit index as a function of the soft-thresholding power\n",
    "plot(sft$fitIndices[,1], -sign(sft$fitIndices[,3])*sft$fitIndices[,2],\n",
    "     xlab=\"Soft Threshold (power)\",ylab=\"Scale Free Topology Model Fit,signed R^2\",type=\"n\",\n",
    "     main = paste(\"Scale independence\"));\n",
    "text(sft$fitIndices[,1], -sign(sft$fitIndices[,3])*sft$fitIndices[,2],\n",
    "     labels=powers,cex=cex1,col=\"red\");\n",
    "# this line corresponds to using an R^2 cut-off of h\n",
    "abline(h=0.9,col=\"red\")\n",
    "# Mean connectivity as a function of the soft-thresholding power\n",
    "plot(sft$fitIndices[,1], sft$fitIndices[,5],\n",
    "     xlab=\"Soft Threshold (power)\",ylab=\"Mean Connectivity\", type=\"n\",\n",
    "     main = paste(\"Mean connectivity\"))\n",
    "text(sft$fitIndices[,1], sft$fitIndices[,5], labels=powers, cex=cex1,col=\"red\")\n",
    "dev.off()"
   ]
  },
  {
   "cell_type": "code",
   "execution_count": 91,
   "metadata": {},
   "outputs": [
    {
     "name": "stdout",
     "output_type": "stream",
     "text": [
      "[1] 8\n"
     ]
    }
   ],
   "source": [
    "#chose the softPower\n",
    "softPower =sft$powerEstimate # 提取最佳软阈值\n",
    "print(sft$powerEstimate)\n",
    "adjacency = adjacency(datExpr0, power = softPower) # 基因表达矩阵 -> 相关性矩阵 -> 邻接矩阵"
   ]
  },
  {
   "cell_type": "code",
   "execution_count": null,
   "metadata": {},
   "outputs": [],
   "source": [
    "k = as.vector(apply(adjacency, 2, sum, na.rm=T))"
   ]
  },
  {
   "cell_type": "code",
   "execution_count": null,
   "metadata": {},
   "outputs": [
    {
     "data": {
      "text/plain": [
       "  scaleFreeRsquared slope\n",
       "1              0.92 -3.01"
      ]
     },
     "execution_count": null,
     "metadata": {},
     "output_type": "execute_result"
    }
   ],
   "source": [
    "par(mfrow = c(1,2))\n",
    "cex = 0.9\n",
    "hist(k)\n",
    "scaleFreePlot(k, main = \"check scale free topology\") # 注意R^2是否大于0.85"
   ]
  },
  {
   "cell_type": "code",
   "execution_count": 96,
   "metadata": {},
   "outputs": [
    {
     "name": "stdout",
     "output_type": "stream",
     "text": [
      "..connectivity..\n",
      "..matrix multiplication (system BLAS)..\n",
      "..normalization..\n",
      "..done.\n"
     ]
    }
   ],
   "source": [
    "# Turn adjacency into topological overlap\n",
    "TOM = TOMsimilarity(adjacency) # 邻接矩阵 -> 拓扑矩阵\n",
    "dissTOM = 1-TOM # 计算基因相异度"
   ]
  },
  {
   "cell_type": "code",
   "execution_count": null,
   "metadata": {},
   "outputs": [
    {
     "data": {
      "text/plain": [
       "[1] 8"
      ]
     },
     "execution_count": null,
     "metadata": {},
     "output_type": "execute_result"
    }
   ],
   "source": [
    "# Call the hierarchical clustering function\n",
    "geneTree = hclust(as.dist(dissTOM), method = \"average\");\n",
    "# Plot the resulting clustering tree (dendrogram)\n",
    "\n",
    "#sizeGrWindow(12,9)\n",
    "pdf(file=paste0(\"WGCNA_output/\", \"4_Gene clustering on TOM-based dissimilarity.pdf\"),width=12,height=9)\n",
    "plot(geneTree, xlab=\"\", sub=\"\", main = \"Gene clustering on TOM-based dissimilarity\",\n",
    "     labels = FALSE, hang = 0.04)\n",
    "dev.off()"
   ]
  },
  {
   "cell_type": "code",
   "execution_count": null,
   "metadata": {},
   "outputs": [
    {
     "name": "stdout",
     "output_type": "stream",
     "text": [
      " ..cutHeight not given, setting it to 0.999  ===>  99% of the (truncated) height range in dendro.\n",
      " ..done.\n"
     ]
    },
    {
     "data": {
      "text/plain": [
       "dynamicMods\n",
       "   0    1    2    3    4    5    6    7    8    9   10   11   12   13   14   15   16   17   18 \n",
       "1419  625  521  419  341  329  178  169  148  138  108   99   91   86   75   73   66   59   56 "
      ]
     },
     "execution_count": null,
     "metadata": {},
     "output_type": "execute_result"
    }
   ],
   "source": [
    "# 动态剪切树逐步识别网络模块\n",
    "# We like large modules, so we set the minimum module size relatively high:\n",
    "minModuleSize = 30\n",
    "# Module identification using dynamic tree cut:\n",
    "dynamicMods = cutreeDynamic(dendro = geneTree, # 基因聚类结果\n",
    "                            distM = dissTOM, # 基因相异度\n",
    "                            deepSplit = 2, # 调整划分模块的敏感度，数值（0-4）越大越敏感，得到的模块越多\n",
    "                            pamRespectsDendro = FALSE, # 不对相似度高的模块进行自动合并\n",
    "                            minClusterSize = minModuleSize)  # 模块包含的最小基因数量，数值越小，小的模块会被保留，模块越多\n",
    "table(dynamicMods) # 模块数和每个模块所含的基因数"
   ]
  },
  {
   "cell_type": "code",
   "execution_count": null,
   "metadata": {},
   "outputs": [
    {
     "data": {
      "text/plain": [
       "pdf \n",
       "  2 "
      ]
     },
     "execution_count": null,
     "metadata": {},
     "output_type": "execute_result"
    }
   ],
   "source": [
    "# 绘制基因聚类树图\n",
    "# Convert numeric lables into colors\n",
    "dynamicColors = labels2colors(dynamicMods)\n",
    "table(dynamicColors)\n",
    "# Plot the dendrogram and colors underneath\n",
    "#sizeGrWindow(8,6)\n",
    "pdf(file=paste0(\"WGCNA_output/\", \"5_Dynamic Tree Cut.pdf\"),width=8,height=6)\n",
    "plotDendroAndColors(geneTree, dynamicColors, \"Dynamic Tree Cut\",\n",
    "                    dendroLabels = FALSE, hang = 0.03,\n",
    "                    addGuide = TRUE, guideHang = 0.05,\n",
    "                    main = \"Gene dendrogram and module colors\")\n",
    "dev.off()"
   ]
  },
  {
   "cell_type": "code",
   "execution_count": 101,
   "metadata": {},
   "outputs": [
    {
     "data": {
      "text/plain": [
       "pdf \n",
       "  2 "
      ]
     },
     "execution_count": null,
     "metadata": {},
     "output_type": "execute_result"
    }
   ],
   "source": [
    "# Calculate eigengenes,计算每个模块的特征基因表达量\n",
    "MEList = moduleEigengenes(datExpr0, colors = dynamicColors)\n",
    "MEs = MEList$eigengenes # 每个基因模块在每个样本中的表达量\n",
    "# Calculate dissimilarity of module eigengenes，计算模块特征基因相异度\n",
    "MEDiss = 1-cor(MEs);\n",
    "# Cluster module eigengenes，根据相似度进行聚类\n",
    "METree = hclust(as.dist(MEDiss), method = \"average\")\n",
    "# Plot the result\n",
    "#sizeGrWindow(7, 6)\n",
    "pdf(file=paste0(\"WGCNA_output/\", \"6_Clustering of module eigengenes.pdf\"),width=7,height=6)\n",
    "plot(METree, main = \"Clustering of module eigengenes\",\n",
    "     xlab = \"\", sub = \"\")\n",
    "MEDissThres = 0.25 # 剪切高度可修改，低于高度的模块可以进行合并\n",
    "# Plot the cut line into the dendrogram\n",
    "abline(h=MEDissThres, col = \"red\")\n",
    "dev.off()"
   ]
  },
  {
   "cell_type": "code",
   "execution_count": null,
   "metadata": {},
   "outputs": [
    {
     "name": "stdout",
     "output_type": "stream",
     "text": [
      " mergeCloseModules: Merging modules whose distance is less than 0.25\n",
      "   multiSetMEs: Calculating module MEs.\n",
      "     Working on set 1 ...\n",
      "     moduleEigengenes: Calculating 19 module eigengenes in given set.\n",
      "   multiSetMEs: Calculating module MEs.\n",
      "     Working on set 1 ...\n",
      "     moduleEigengenes: Calculating 16 module eigengenes in given set.\n",
      "   Calculating new MEs...\n",
      "   multiSetMEs: Calculating module MEs.\n",
      "     Working on set 1 ...\n",
      "     moduleEigengenes: Calculating 16 module eigengenes in given set.\n"
     ]
    }
   ],
   "source": [
    "# Call an automatic merging function，合并相异度较低的模块\n",
    "merge = mergeCloseModules(datExpr0, dynamicColors, cutHeight = MEDissThres, verbose = 3)\n",
    "# The merged module colors，提取合并后模块对应的颜色\n",
    "mergedColors = merge$colors\n",
    "print(length(table(mergedColors))) # 查看模块数量\n",
    "# Eigengenes of the new merged modules，提取合并之后每个基因模块的表达量\n",
    "mergedMEs = merge$newMEs"
   ]
  },
  {
   "cell_type": "code",
   "execution_count": 105,
   "metadata": {},
   "outputs": [
    {
     "data": {
      "text/plain": [
       "pdf \n",
       "  2 "
      ]
     },
     "execution_count": null,
     "metadata": {},
     "output_type": "execute_result"
    }
   ],
   "source": [
    "# 可视化合并之后的网络模块\n",
    "#sizeGrWindow(12, 9)\n",
    "pdf(file=paste0(\"WGCNA_output/\", \"7_merged dynamic.pdf\"), width = 9, height = 6.5)\n",
    "plotDendroAndColors(geneTree, cbind(dynamicColors, mergedColors),\n",
    "                    c(\"Dynamic Tree Cut\", \"Merged dynamic\"),\n",
    "                    dendroLabels = FALSE, hang = 0.03,\n",
    "                    addGuide = TRUE, guideHang = 0.05)\n",
    "dev.off()"
   ]
  },
  {
   "cell_type": "code",
   "execution_count": 106,
   "metadata": {},
   "outputs": [],
   "source": [
    "# Rename to moduleColors\n",
    "moduleColors = mergedColors\n",
    "# Construct numerical labels corresponding to the colors\n",
    "colorOrder = c(\"grey\", standardColors(50))\n",
    "moduleLabels = match(moduleColors, colorOrder)-1\n",
    "MEs = mergedMEs\n",
    "save(softPower, MEs, moduleLabels, moduleColors, geneTree, file = \"WGCNA_output/逐步法识别基因模块.rdata\")"
   ]
  },
  {
   "cell_type": "code",
   "execution_count": null,
   "metadata": {},
   "outputs": [],
   "source": [
    "rm(list = ls())\n",
    "gc()"
   ]
  },
  {
   "cell_type": "markdown",
   "metadata": {},
   "source": [
    "# 表型信息关联分析"
   ]
  },
  {
   "cell_type": "code",
   "execution_count": 169,
   "metadata": {},
   "outputs": [],
   "source": [
    "datExpr0 = qs_read(\"WGCNA_output/datExpr0.qs2\")\n",
    "datTraits = qs_read(\"WGCNA_output/datTraits.qs2\")\n",
    "load(\"WGCNA_output/逐步法识别基因模块.rdata\")"
   ]
  },
  {
   "cell_type": "code",
   "execution_count": 170,
   "metadata": {},
   "outputs": [],
   "source": [
    "# 对模块特征基因表达矩阵进行排序，使相似的基因模块（通过相关性测量）相邻\n",
    "MEs = orderMEs(MEs)\n",
    "names = rownames(MEs)\n",
    "datTraits = datTraits[names,] # 样本对其\n",
    "nGenes = ncol(datExpr0)\n",
    "nSamples = nrow(datExpr0)\n",
    "# 计算模块和表型信息相关性\n",
    "moduleTraitCor = cor(MEs, datTraits, use = \"p\") # 行名是模块名，列名是表型信息\n",
    "# 计算模块和表型信息相关性p值\n",
    "moduleTraitPvalue = corPvalueStudent(moduleTraitCor, nSamples)"
   ]
  },
  {
   "cell_type": "code",
   "execution_count": 171,
   "metadata": {},
   "outputs": [],
   "source": [
    "#sizeGrWindow(10,6)\n",
    "pdf(file=paste0(\"WGCNA_output/\", \"8_Module-trait relationships.pdf\"),width=9,height=8)\n",
    "# Will display correlations and their p-values\n",
    "textMatrix = paste(signif(moduleTraitCor, 2), \"\\n(\",\n",
    "                   signif(moduleTraitPvalue, 1), \")\", sep = \"\")\n",
    "\n",
    "dim(textMatrix) = dim(moduleTraitCor)\n",
    "par(mar = c(10, 10, 5, 5))\n",
    "\n",
    "# Display the correlation values within a heatmap plot\n",
    "labeledHeatmap(Matrix = moduleTraitCor,\n",
    "  xLabels = names(datTraits),\n",
    "  yLabels = names(MEs),\n",
    "  ySymbols = names(MEs),\n",
    "  colorLabels = FALSE,\n",
    "  colors = blueWhiteRed(50),\n",
    "  textMatrix = textMatrix,\n",
    "  setStdMargins = FALSE,\n",
    "  cex.text = 0.5,font.lab.x = 0.5,font.lab.y = 0.5,\n",
    "  zlim = c(-1,1),\n",
    "  main = paste(\"Module-trait relationships\"))\n",
    "dev.off()\n",
    "\n",
    "# 可以把相关性最高的模块提取出来做最后的分析"
   ]
  },
  {
   "cell_type": "code",
   "execution_count": 172,
   "metadata": {},
   "outputs": [],
   "source": [
    "# names (colors) of the modules\n",
    "modNames = substring(names(MEs), 3) #提取模块颜色，从第三个字符开始\n",
    "\n",
    "geneModuleMembership = as.data.frame(cor(datExpr0, MEs, use = \"p\")) # 计算各个基因和模块间的相关性\n",
    "MMPvalue = as.data.frame(corPvalueStudent(as.matrix(geneModuleMembership), nSamples)) # 计算相关性p值\n",
    "\n",
    "# 修改列名,重新添加MM\n",
    "names(geneModuleMembership) = paste(\"MM\", modNames, sep=\"\")\n",
    "names(MMPvalue) = paste(\"p.MM\", modNames, sep=\"\")\n",
    "\n",
    "#names of those trait\n",
    "traitNames=names(datTraits)\n",
    "\n",
    "geneTraitSignificance = as.data.frame(cor(datExpr0, datTraits, use = \"p\"))\n",
    "GSPvalue = as.data.frame(corPvalueStudent(as.matrix(geneTraitSignificance), nSamples))\n",
    "\n",
    "names(geneTraitSignificance) = paste(\"GS.\", traitNames, sep=\"\")\n",
    "names(GSPvalue) = paste(\"p.GS.\", traitNames, sep=\"\")\n"
   ]
  },
  {
   "cell_type": "code",
   "execution_count": 173,
   "metadata": {},
   "outputs": [],
   "source": [
    "for (trait in traitNames){\n",
    "  traitColumn=match(trait,traitNames)\n",
    "  \n",
    "  for (module in modNames){\n",
    "    column = match(module, modNames) # 模块特征基因所在列\n",
    "    moduleGenes = moduleColors==module # 提取某个模块中的基因\n",
    "    \n",
    "    # 基因与模块相关性--基因与性状相关性 散点图，这个基因是否在性状和模块当中都扮演重要角色？（靠右上方）\n",
    "    if (nrow(geneModuleMembership[moduleGenes,]) > 1){#进行这部分计算必须每个模块内基因数量大于2，由于前面设置了最小数量是30，这里可以不做这个判断，但是grey有可能会出现1个gene,它会导致代码运行的时候中断，故设置这一步\n",
    "      \n",
    "      #sizeGrWindow(7, 7)\n",
    "      pdf(file=paste0(\"WGCNA_output/\", paste(\"9_\", trait, \"_\", module,\"_Module membership vs gene significance.pdf\",sep=\"\")),width=7,height=7)\n",
    "      par(mfrow = c(1,1))\n",
    "      verboseScatterplot(abs(geneModuleMembership[moduleGenes, column]),\n",
    "                         abs(geneTraitSignificance[moduleGenes, traitColumn]),\n",
    "                         xlab = paste(\"Module Membership in\", module, \"module\"),\n",
    "                         ylab = paste(\"Gene significance for \",trait),\n",
    "                         main = paste(\"Module membership vs. gene significance\\n\"),\n",
    "                         cex.main = 1.2, cex.lab = 1.2, cex.axis = 1.2, col = module)\n",
    "      dev.off()\n",
    "    }\n",
    "  }\n",
    "}"
   ]
  },
  {
   "cell_type": "code",
   "execution_count": 174,
   "metadata": {},
   "outputs": [],
   "source": [
    "# 感兴趣性状和所有模块之间的相关性\n",
    "for (trait in colnames(geneTraitSignificance)) {\n",
    "  # 使用双括号提取动态列名\n",
    "  GS = geneTraitSignificance[[trait]] \n",
    "  GS = abs(GS)\n",
    "  \n",
    "  pdf(file = paste0(\"WGCNA_output/10_Gene Significance for \", trait, \" across module.pdf\"))\n",
    "  \n",
    "  plotModuleSignificance(\n",
    "    GS, \n",
    "    moduleColors,\n",
    "    ylim = c(0, 0.2),\n",
    "    main = paste0(\"WGCNA_output/10_Gene Significance for \", trait, \" across module\")\n",
    "  )\n",
    "\n",
    "  dev.off() # 关闭图形设备\n",
    "}"
   ]
  },
  {
   "cell_type": "code",
   "execution_count": 175,
   "metadata": {},
   "outputs": [],
   "source": [
    "# 提取每个模块hub基因\n",
    "hubgenes_of_modules = chooseTopHubInEachModule(datExpr0, moduleColors) \n",
    "hubgenes_of_modules = hubgenes_of_modules|> as.data.frame() |> rownames_to_column(\"moduleColors\")\n",
    "write_csv(hubgenes_of_modules, paste0(\"WGCNA_output/\", \"11_hubgenes_of_modules.csv\"))"
   ]
  },
  {
   "cell_type": "code",
   "execution_count": null,
   "metadata": {},
   "outputs": [],
   "source": [
    "# 筛选感兴趣性状相关的基因\n",
    "\n",
    "for (trait in colnames(datTraits)) {\n",
    "  trait_related_genes = networkScreening(\n",
    "    datTraits[[trait]],\n",
    "    MEs,\n",
    "    datExpr0\n",
    "  )\n",
    "  \n",
    "  trait_related_genes = as.data.frame(trait_related_genes) |>\n",
    "    rownames_to_column(\"gene_symbol\") |>\n",
    "    arrange(desc(cor.Weighted))  # 按 cor.Weighted 降序排列\n",
    "  \n",
    "  write_csv(\n",
    "    trait_related_genes,\n",
    "    paste0(\"WGCNA_output/11_\", trait, \"_related_genes.csv\")  # 文件名添加分隔符 _\n",
    "  )\n",
    "}"
   ]
  },
  {
   "cell_type": "markdown",
   "metadata": {},
   "source": [
    "# 网络模块可视化"
   ]
  },
  {
   "cell_type": "code",
   "execution_count": 3,
   "metadata": {},
   "outputs": [],
   "source": [
    "datExpr0 = qs_read(\"WGCNA_output/datExpr0.qs2\")\n",
    "datTraits = qs_read(\"WGCNA_output/datTraits.qs2\")\n",
    "load(\"WGCNA_output/逐步法识别基因模块.rdata\")"
   ]
  },
  {
   "cell_type": "code",
   "execution_count": 6,
   "metadata": {},
   "outputs": [
    {
     "name": "stdout",
     "output_type": "stream",
     "text": [
      "TOM calculation: adjacency..\n",
      "..will not use multithreading.\n",
      " Fraction of slow calculations: 0.000000\n",
      "..connectivity..\n",
      "..matrix multiplication (system BLAS)..\n",
      "..normalization..\n",
      "..done.\n"
     ]
    }
   ],
   "source": [
    "# 提取感兴趣模块中的基因\n",
    "modules = c(\"brown\", \"green\")\n",
    "inModule = (moduleColors==modules) # 基因所在位置\n",
    "modGenes = colnames(datExpr0)[inModule]\n",
    "\n",
    "# 计算拓扑矩阵,并提取对应模块的拓扑矩阵\n",
    "TOM = TOMsimilarityFromExpr(datExpr0, power = softPower)\n",
    "modTOM = TOM[inModule, inModule]\n",
    "\n",
    "# 输出为ctyoscape可识别的格式\n",
    "cyt = exportNetworkToCytoscape(\n",
    "  modTOM,\n",
    "  nodeFile = paste(\"WGCNA_output/\", \"CytoscapeInput-nodes-\", paste(modules, collapse = \"-\")),\n",
    "  edgeFile = paste(\"WGCNA_output/\", \"CytoscapeInput-edges-\", paste(modules, collapse = \"-\")),\n",
    "  weighted = TRUE, # 是否为加权网络\n",
    "  threshold = 0.02, # 在邻接矩阵中高于多少定义为相关\n",
    "  nodeNames = modGenes, # 节点名字=基因名\n",
    "  nodeAttr = moduleColors[inModule] # 节点属性=颜色\n",
    ")"
   ]
  }
 ],
 "metadata": {
  "language_info": {
   "name": "r"
  }
 },
 "nbformat": 4,
 "nbformat_minor": 2
}
